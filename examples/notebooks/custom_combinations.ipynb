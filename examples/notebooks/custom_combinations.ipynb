{
 "cells": [
  {
   "cell_type": "markdown",
   "id": "f60607eb",
   "metadata": {},
   "source": [
    "# Custom Pattern Combinations\n",
    "\n",
    "Create custom combinations of multiple patterns."
   ]
  },
  {
   "cell_type": "code",
   "execution_count": null,
   "id": "f6d784e0",
   "metadata": {},
   "outputs": [],
   "source": [
    "from patterns.reflection.agent import ReflectionAgent\n",
    "from patterns.planning.agent import PlanningAgent\n",
    "\n",
    "class HybridAgent:\n",
    "    def __init__(self):\n",
    "        self.planner = PlanningAgent()\n",
    "        self.reflector = ReflectionAgent()\n",
    "    \n",
    "    def run(self, task):\n",
    "        # First plan\n",
    "        plan = self.planner.run(f\"Create plan for: {task}\")\n",
    "        \n",
    "        # Then reflect\n",
    "        reflection = self.reflector.run(f\"Reflect on plan: {plan}\")\n",
    "        \n",
    "        return {\"plan\": plan, \"reflection\": reflection}\n",
    "\n",
    "hybrid = HybridAgent()\n",
    "result = hybrid.run(\"Build a web application\")\n",
    "print(result)"
   ]
  }
 ],
 "metadata": {
  "language_info": {
   "name": "python"
  }
 },
 "nbformat": 4,
 "nbformat_minor": 5
}
