{
 "cells": [
  {
   "cell_type": "markdown",
   "id": "501db561",
   "metadata": {},
   "source": [
    "# Getting Started with AWS Agentic Architectures\n",
    "\n",
    "This notebook demonstrates basic usage of the agentic patterns."
   ]
  },
  {
   "cell_type": "code",
   "execution_count": null,
   "id": "442e4b1d",
   "metadata": {},
   "outputs": [],
   "source": [
    "from patterns.base.bedrock_client import BedrockClient\n",
    "\n",
    "client = BedrockClient(region=\"us-east-1\")\n",
    "result = client.invoke_model(\"Hello, how are you?\")\n",
    "print(result)"
   ]
  },
  {
   "cell_type": "markdown",
   "id": "0717bb65",
   "metadata": {},
   "source": [
    "## Using Reflection Pattern"
   ]
  },
  {
   "cell_type": "code",
   "execution_count": null,
   "id": "f3ed49ad",
   "metadata": {},
   "outputs": [],
   "source": [
    "from patterns.reflection.agent import ReflectionAgent\n",
    "\n",
    "agent = ReflectionAgent()\n",
    "result = agent.run(\"Explain quantum computing\")\n",
    "print(result)"
   ]
  }
 ],
 "metadata": {
  "language_info": {
   "name": "python"
  }
 },
 "nbformat": 4,
 "nbformat_minor": 5
}
