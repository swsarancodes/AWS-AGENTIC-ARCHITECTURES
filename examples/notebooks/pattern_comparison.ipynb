{
 "cells": [
  {
   "cell_type": "markdown",
   "id": "eb0e89d1",
   "metadata": {},
   "source": [
    "# Pattern Comparison\n",
    "\n",
    "Compare different agentic patterns side by side."
   ]
  },
  {
   "cell_type": "code",
   "execution_count": null,
   "id": "093b3aea",
   "metadata": {},
   "outputs": [],
   "source": [
    "from patterns.reflection.agent import ReflectionAgent\n",
    "from patterns.react.agent import ReActAgent\n",
    "import time\n",
    "\n",
    "prompt = \"Solve this problem: What is 15 * 24?\"\n",
    "\n",
    "# Test Reflection\n",
    "start = time.time()\n",
    "reflection_agent = ReflectionAgent()\n",
    "reflection_result = reflection_agent.run(prompt)\n",
    "reflection_time = time.time() - start\n",
    "\n",
    "# Test ReAct\n",
    "start = time.time()\n",
    "react_agent = ReActAgent()\n",
    "react_result = react_agent.run(prompt)\n",
    "react_time = time.time() - start\n",
    "\n",
    "print(f\"Reflection: {reflection_time:.2f}s\")\n",
    "print(f\"ReAct: {react_time:.2f}s\")"
   ]
  }
 ],
 "metadata": {
  "language_info": {
   "name": "python"
  }
 },
 "nbformat": 4,
 "nbformat_minor": 5
}
